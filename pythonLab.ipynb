{
  "nbformat": 4,
  "nbformat_minor": 0,
  "metadata": {
    "colab": {
      "provenance": [],
      "toc_visible": true,
      "authorship_tag": "ABX9TyMpt6c+Au2MthtFqfoeFO01",
      "include_colab_link": true
    },
    "kernelspec": {
      "name": "python3",
      "display_name": "Python 3"
    },
    "language_info": {
      "name": "python"
    }
  },
  "cells": [
    {
      "cell_type": "markdown",
      "metadata": {
        "id": "view-in-github",
        "colab_type": "text"
      },
      "source": [
        "<a href=\"https://colab.research.google.com/github/Kaif-Imteyaz/Alumni/blob/main/pythonLab.ipynb\" target=\"_parent\"><img src=\"https://colab.research.google.com/assets/colab-badge.svg\" alt=\"Open In Colab\"/></a>"
      ]
    },
    {
      "cell_type": "markdown",
      "source": [
        "# Area of circle"
      ],
      "metadata": {
        "id": "omoEIBgwdSnq"
      }
    },
    {
      "cell_type": "code",
      "source": [
        "# using math lib\n",
        "import math\n",
        "#area of circle = pi * r^2\n",
        "\n",
        "r = float(input(\"Enter the radius of the circle: \"))\n",
        "area = 3.14159 * r**2\n",
        "\n",
        "print(\"Area of circle with radius\", r, \"is\", area)\n",
        "\n",
        "print(\"\\nUsing the math lib or pi\")\n",
        "R = float(input(\"Enter the radius of the circle: \"))\n",
        "AREA = math.pi * R**2\n",
        "\n",
        "print(\"Area of circle with radius\", R, \"is\", AREA)\n"
      ],
      "metadata": {
        "id": "sgRKYNtzdY0f"
      },
      "execution_count": null,
      "outputs": []
    },
    {
      "cell_type": "markdown",
      "source": [
        "# Area of Triangle"
      ],
      "metadata": {
        "id": "r1Z2IKm-eTuZ"
      }
    },
    {
      "cell_type": "code",
      "source": [
        "import math\n",
        "# area of triangle = 1/2 * b * h\n",
        "print(\"General formula to find area of triangle\")\n",
        "B = int(input(\"Enter base of triangle: \"))\n",
        "H = int(input(\"Enter height of triangle: \"))\n",
        "\n",
        "Area = 0.5 * B * H\n",
        "\n",
        "print(\"Area of the triangle = \", Area)\n",
        "\n",
        "\n",
        "# scalene triangle\n",
        "# s = a+b+c/2\n",
        "# area = √(s(s-a)(s-b)(s-c))\n",
        "print(\"\\nTriangle having different side  or Scalene Triangle\")\n",
        "a = float(input(\"Enter a: \"))\n",
        "b = float(input(\"Enter b: \"))\n",
        "c = float(input(\"Enter c: \"))\n",
        "\n",
        "s = (a+b+c)/2\n",
        "# calculate the area\n",
        "area = (s*(s-a)*(s-b)*(s-c)) ** 0.5\n",
        "print('The area of the triangle is %0.2f',area)\n",
        "\n",
        "#equilateral triangle\n",
        "# area = √3/4 * a\n",
        "print(\"\\nEquilateral triangle\")\n",
        "e = int(input(\"Enter e: \"))\n",
        "\n",
        "area = math.sqrt(3/4) * e\n",
        "\n",
        "print(\"Area of equilateral triangle: \", area)"
      ],
      "metadata": {
        "id": "aWcZyqEZec3K"
      },
      "execution_count": null,
      "outputs": []
    },
    {
      "cell_type": "markdown",
      "source": [
        "# Simple Interest"
      ],
      "metadata": {
        "id": "-AQwy4kfSxZX"
      }
    },
    {
      "cell_type": "code",
      "source": [
        "# Taking input from the user\n",
        "principal = float(input(\"Enter the principal amount: \"))\n",
        "rate = float(input(\"Enter the annual interest rate: \"))\n",
        "time = float(input(\"Enter the time period (in years): \"))\n",
        "\n",
        "SI = (principal * rate * time) / 100\n",
        "\n",
        "print(\"Simple Interest: \", SI)"
      ],
      "metadata": {
        "colab": {
          "base_uri": "https://localhost:8080/"
        },
        "id": "cDNLM6ysiL90",
        "outputId": "9fe5f07d-e23b-40ef-c8e5-04ee9c08f297"
      },
      "execution_count": null,
      "outputs": [
        {
          "output_type": "stream",
          "name": "stdout",
          "text": [
            "Enter the principal amount: 1000\n",
            "Enter the annual interest rate: 5\n",
            "Enter the time period (in years): 1\n",
            "Simple Interest:  50.0\n"
          ]
        }
      ]
    },
    {
      "cell_type": "markdown",
      "source": [
        "# Compound Interest"
      ],
      "metadata": {
        "id": "QzFFUu9TSQgE"
      }
    },
    {
      "cell_type": "code",
      "source": [
        "# Taking input from the user\n",
        "principal = float(input(\"Enter the principal amount: \"))\n",
        "rate = float(input(\"Enter the annual interest rate: \"))\n",
        "time = float(input(\"Enter the time period (in years): \"))\n",
        "\n",
        "#method a\n",
        "amount = principal * (pow ((1+rate/100), time))\n",
        "CI = amount - principal\n",
        "print(\"a) Compound interest: \",CI)\n",
        "\n",
        "#method b\n",
        "CI2 = principal * (1+(rate/100)) ** time - principal\n",
        "print(\"b) CI: \", CI2)\n",
        "\n",
        "#method c\n",
        "A = float(principal)\n",
        "for i in range(int(time)):\n",
        "  A = (A) * (1 +rate/100)\n",
        "\n",
        "CI3 = float(A) - float(principal)\n",
        "\n",
        "print(\"c) CI: \", CI3)"
      ],
      "metadata": {
        "colab": {
          "base_uri": "https://localhost:8080/"
        },
        "id": "_zI0jIAkR1wz",
        "outputId": "90a179d7-049c-4f7a-a596-bc3e61acd46f"
      },
      "execution_count": null,
      "outputs": [
        {
          "output_type": "stream",
          "name": "stdout",
          "text": [
            "Enter the principal amount: 1000\n",
            "Enter the annual interest rate: 2\n",
            "Enter the time period (in years): 1\n",
            "a) Compound interest:  20.0\n",
            "b) CI:  20.0\n",
            "c) CI:  20.0\n"
          ]
        }
      ]
    },
    {
      "cell_type": "markdown",
      "source": [
        "# Armstrong's Number"
      ],
      "metadata": {
        "id": "PiuP-FUjXy5O"
      }
    },
    {
      "cell_type": "code",
      "source": [
        "# user input\n",
        "num = int(input(\"Enter a number: \"))\n",
        "\n",
        "sum = 0\n",
        "\n",
        "# assigning num to temp\n",
        "temp = num\n",
        "\n",
        "while temp > 0:\n",
        "  a = temp % 10   # seprating digit\n",
        "  sum += a**3     # adding the cube of each digit to the sum\n",
        "  temp //= 10     # floor division -->removing the last digit from temp\n",
        "\n",
        "if sum == num:\n",
        "  print(num, \" is an armstrong's number.\")\n",
        "else:\n",
        "  print(num, \" is not an armstrong's number \")"
      ],
      "metadata": {
        "colab": {
          "base_uri": "https://localhost:8080/"
        },
        "id": "hfA-5vuVYBlw",
        "outputId": "f94731ba-976f-424f-a424-abb6db6db2fd"
      },
      "execution_count": null,
      "outputs": [
        {
          "output_type": "stream",
          "name": "stdout",
          "text": [
            "Enter a number: 153\n",
            "153  is an armstrong's number.\n"
          ]
        }
      ]
    },
    {
      "cell_type": "code",
      "source": [
        "#using pow\n",
        "def isArmstrong(number):\n",
        "    num_str = str(number) # To convert the number to a string\n",
        "    num_digits = len(num_str)\n",
        "\n",
        "    sum = 0\n",
        "    # Calculate the sum of each digit raised to the power of num_digits\n",
        "    for digit in num_str:\n",
        "       sum += pow(int(digit), num_digits)\n",
        "\n",
        "    return sum == number\n",
        "\n",
        "num = int(input(\"Enter a number: \"))\n",
        "#0, 1, 153, 370, 371 and 407, 1634, 8208 and 9474\n",
        "\n",
        "if isArmstrong(num):\n",
        "    print(f\"{num} is an Armstrong number.\")\n",
        "else:\n",
        "    print(f\"{num} is not an Armstrong number.\")\n"
      ],
      "metadata": {
        "colab": {
          "base_uri": "https://localhost:8080/"
        },
        "id": "2L25e_wBrgo6",
        "outputId": "5f0fdb74-0d3b-4257-ddb6-706b5b86dd61"
      },
      "execution_count": 10,
      "outputs": [
        {
          "output_type": "stream",
          "name": "stdout",
          "text": [
            "Enter a number: 1634\n",
            "1634 is an Armstrong number.\n"
          ]
        }
      ]
    },
    {
      "cell_type": "markdown",
      "source": [
        "# Sum of array"
      ],
      "metadata": {
        "id": "eCAuaiB5adAI"
      }
    },
    {
      "cell_type": "code",
      "source": [
        "import math\n",
        "arr1 = [1, 2, 3, 4]\n",
        "#method 1\n",
        "\n",
        "addition = sum(arr1)\n",
        "\n",
        "print(\"Method 1: \\n sum = \", addition)\n",
        "\n",
        "\n",
        "#method 2\n",
        "\n",
        "def sumArr(arr):\n",
        "  sum =0\n",
        "  for num in arr:\n",
        "      sum += num\n",
        "  return sum\n",
        "\n",
        "array = [1, 2, 3, 4, 5]\n",
        "num = sumArr(array)\n",
        "print(\"Method 2:\\n sum = \", num)"
      ],
      "metadata": {
        "id": "jChEf9gLauDY",
        "colab": {
          "base_uri": "https://localhost:8080/"
        },
        "outputId": "91c32242-c87e-4722-89c1-83b1e7f5a6dd"
      },
      "execution_count": 6,
      "outputs": [
        {
          "output_type": "stream",
          "name": "stdout",
          "text": [
            "Method 1: \n",
            " sum =  10\n",
            "Method 2:\n",
            " sum =  15\n"
          ]
        }
      ]
    },
    {
      "cell_type": "markdown",
      "source": [
        "# MAX in array"
      ],
      "metadata": {
        "id": "uFedWjFBGl94"
      }
    },
    {
      "cell_type": "code",
      "source": [
        "array = [7, 5, 4, 1]\n",
        "n = len(array)\n",
        "large = max(array)\n",
        "\n",
        "print(\"Method 1:\\n using max(), maximum in an array =\", large)\n",
        "\n",
        "#method 2\n",
        "\n",
        "def maximum(array, n):\n",
        "  max = array[0]\n",
        "\n",
        "  for i in range(1, n):\n",
        "    if array[i] > max:\n",
        "      max = array[i]\n",
        "  return max\n",
        "\n",
        "largest = maximum(array, n)\n",
        "print(\"Method 2:\\n Without using max(), maximum in an array =\", largest)"
      ],
      "metadata": {
        "colab": {
          "base_uri": "https://localhost:8080/"
        },
        "id": "wqQ9HMVMGyrT",
        "outputId": "33ce41ec-4eea-4e14-898b-0e83dc0e0065"
      },
      "execution_count": null,
      "outputs": [
        {
          "output_type": "stream",
          "name": "stdout",
          "text": [
            "Method 1:\n",
            " using max(), maximum in an array = 7\n",
            "Method 2:\n",
            " Without using max(), maximum in an array = 7\n"
          ]
        }
      ]
    },
    {
      "cell_type": "markdown",
      "source": [
        "# Palindrome\n",
        "Method 1"
      ],
      "metadata": {
        "id": "lvc8YVV6MpzT"
      }
    },
    {
      "cell_type": "code",
      "source": [
        "num = int(input(\"Enter a number: \"))\n",
        "\n",
        "#Method 1 using string slicing method\n",
        "if num == int(str(num)[::-1]):\n",
        "  print(num,\" is a palindrome number.\")\n",
        "else:\n",
        "  print(num,\" is not a palindrome number.\")\n",
        "\n"
      ],
      "metadata": {
        "id": "CDiY2xGvMxO_",
        "colab": {
          "base_uri": "https://localhost:8080/"
        },
        "outputId": "15eda341-bc97-473f-ba8c-dfec9026ba54"
      },
      "execution_count": 11,
      "outputs": [
        {
          "output_type": "stream",
          "name": "stdout",
          "text": [
            "Enter a number: 867\n",
            "867  is not a palindrome number.\n"
          ]
        }
      ]
    },
    {
      "cell_type": "markdown",
      "source": [
        "# Palindrome 2\n",
        "Method 2"
      ],
      "metadata": {
        "id": "BfCahNMjNtFq"
      }
    },
    {
      "cell_type": "code",
      "source": [
        "num = int(input(\"Enter a number: \"))\n",
        "\n",
        "def palindromeCheck(n):\n",
        "    originalNumber = n\n",
        "    reversedNumber = 0\n",
        "\n",
        "    while n != 0:\n",
        "        digit = n % 10 # seprating digit\n",
        "        reversedNumber = reversedNumber * 10 + digit\n",
        "        n //= 10  #removing the last digit from n\n",
        "\n",
        "    if originalNumber == reversedNumber:\n",
        "        print(originalNumber, \" is a palindrome number.\")\n",
        "    else:\n",
        "        print(originalNumber, \" is not a palindrome number.\")\n",
        "\n",
        "palindromeCheck(num)\n"
      ],
      "metadata": {
        "id": "LzaPAHPmN3hm",
        "colab": {
          "base_uri": "https://localhost:8080/"
        },
        "outputId": "e6ad3758-4e1a-4f3f-c90d-38eaa69128e3"
      },
      "execution_count": 7,
      "outputs": [
        {
          "output_type": "stream",
          "name": "stdout",
          "text": [
            "Enter a number: 77\n",
            "77  is a palindrome number.\n"
          ]
        }
      ]
    }
  ]
}